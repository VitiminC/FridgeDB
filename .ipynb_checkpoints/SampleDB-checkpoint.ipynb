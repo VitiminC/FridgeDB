{
 "cells": [
  {
   "cell_type": "code",
   "execution_count": 19,
   "id": "bb494be7",
   "metadata": {},
   "outputs": [
    {
     "name": "stdout",
     "output_type": "stream",
     "text": [
      "The sql extension is already loaded. To reload it, use:\n",
      "  %reload_ext sql\n"
     ]
    }
   ],
   "source": [
    "import pandas as pd\n",
    "import sqlite3\n",
    "%load_ext sql"
   ]
  },
  {
   "cell_type": "code",
   "execution_count": 20,
   "id": "3c631d94",
   "metadata": {},
   "outputs": [],
   "source": [
    "samples_df = pd.DataFrame({'ID' : ['sample1'],\n",
    "                  'Fridge': [1],\n",
    "                  'Shelf': [1], \n",
    "                  'Rack': [1],\n",
    "                  'Layer': [1],\n",
    "                  'Box' : [1],\n",
    "                  'Row' : [1],\n",
    "                  'Column' : [1],\n",
    "                  'Date' : [\"1-1-22\"],\n",
    "                  'Description' : [\"this is a test sample and doesnt actaully exist\"]\n",
    "                 })\n",
    "\n",
    "cnn = sqlite3.connect('samples.db')\n",
    "#samples_df.to_sql('Samples', cnn)\n",
    "%sql sqlite:///samples.db"
   ]
  },
  {
   "cell_type": "code",
   "execution_count": 21,
   "id": "e26b07ea",
   "metadata": {},
   "outputs": [],
   "source": [
    "equipment_df= pd.DataFrame({'Fridge': ['1'], \n",
    "                  'Shelves': [4], \n",
    "                  'Racks': [4],\n",
    "                  'Layers': [5],\n",
    "                  'Boxes' : [4],\n",
    "                  'Rows' : [9],\n",
    "                  'Columns' : [9]\n",
    "                 })\n",
    "\n",
    "cnn = sqlite3.connect('equipment.db')\n",
    "#equipment_df.to_sql('Equipment', cnn)\n",
    "%sql sqlite:///equipment.db"
   ]
  },
  {
   "cell_type": "code",
   "execution_count": null,
   "id": "1df865d3",
   "metadata": {},
   "outputs": [],
   "source": []
  }
 ],
 "metadata": {
  "kernelspec": {
   "display_name": "Python 3 (ipykernel)",
   "language": "python",
   "name": "python3"
  },
  "language_info": {
   "codemirror_mode": {
    "name": "ipython",
    "version": 3
   },
   "file_extension": ".py",
   "mimetype": "text/x-python",
   "name": "python",
   "nbconvert_exporter": "python",
   "pygments_lexer": "ipython3",
   "version": "3.9.7"
  }
 },
 "nbformat": 4,
 "nbformat_minor": 5
}
