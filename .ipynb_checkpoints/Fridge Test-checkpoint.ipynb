{
 "cells": [
  {
   "cell_type": "code",
   "execution_count": 122,
   "id": "b542ac3d",
   "metadata": {},
   "outputs": [],
   "source": [
    "import pandas as pd\n",
    "import sqlite3\n",
    "import ipywidgets as widgets\n",
    "#Label, BoundedIntText, IntText, Valid, Dropdown, Select, Text, Textarea, Combobox, Password, Image, Button, DatePicker, Tab"
   ]
  },
  {
   "cell_type": "code",
   "execution_count": 123,
   "id": "4772e350",
   "metadata": {},
   "outputs": [],
   "source": [
    "#!pip install ipython-sql"
   ]
  },
  {
   "cell_type": "code",
   "execution_count": null,
   "id": "67b3c6c6",
   "metadata": {},
   "outputs": [],
   "source": []
  },
  {
   "cell_type": "code",
   "execution_count": 124,
   "id": "7dd1f8cf",
   "metadata": {},
   "outputs": [],
   "source": [
    "flag = True\n",
    "\n",
    "fridge_text = widgets.IntText(\n",
    "    value=\"1\",\n",
    "    description='Fridge:',\n",
    "    disabled=False\n",
    ")\n",
    "\n",
    "shelf_text = widgets.IntText(\n",
    "    value=\"1\",\n",
    "    description='Shelf:',\n",
    "    disabled=False\n",
    ")\n",
    "\n",
    "rack_text = widgets.IntText(\n",
    "    value=\"1\",\n",
    "    description='Rack:',\n",
    "    disabled=False\n",
    ")\n",
    "\n",
    "layer_text = widgets.IntText(\n",
    "    value=\"1\",\n",
    "    description='Layer:',\n",
    "    disabled=False\n",
    ")\n",
    "\n",
    "box_text = widgets.IntText(\n",
    "    value=\"1\",\n",
    "    description='Box:',\n",
    "    disabled=False\n",
    ")\n",
    "\n",
    "row_text = widgets.IntText(\n",
    "    value=\"1\",\n",
    "    description='Row:',\n",
    "    disabled=False\n",
    ")\n",
    "\n",
    "column_text = widgets.IntText(\n",
    "    value=\"1\",\n",
    "    description='Column:',\n",
    "    disabled=False\n",
    ")\n",
    "\n",
    "id_text = widgets.Text(\n",
    "    placeholder='Enter sample ID',\n",
    "    description='String:',\n",
    "    disabled=False\n",
    ")\n",
    "\n",
    "description_text = widgets.Textarea(\n",
    "    placeholder='Enter description of sample',\n",
    "    description='Description:',\n",
    "    disabled=False\n",
    ")"
   ]
  },
  {
   "cell_type": "code",
   "execution_count": 125,
   "id": "014bde20",
   "metadata": {},
   "outputs": [],
   "source": [
    "confirm_Button = widgets.Button(\n",
    "    description='Add Sample',\n",
    "    disabled=False,\n",
    "    button_style='', # 'success', 'info', 'warning', 'danger' or ''\n",
    "    tooltip='Confirms Selection',\n",
    "    icon='check' # (FontAwesome names without the `fa-` prefix)\n",
    ")"
   ]
  },
  {
   "cell_type": "code",
   "execution_count": 126,
   "id": "f88f0f58",
   "metadata": {},
   "outputs": [],
   "source": [
    "def confirm_click(b):\n",
    "    global flag\n",
    "    flag = False\n",
    "    print(column_text.value)\n",
    "    \n",
    "confirm_Button.on_click(confirm_click)"
   ]
  },
  {
   "cell_type": "code",
   "execution_count": 127,
   "id": "75cb5517",
   "metadata": {},
   "outputs": [
    {
     "data": {
      "application/vnd.jupyter.widget-view+json": {
       "model_id": "58e06686bcde47688c7825f310836e4c",
       "version_major": 2,
       "version_minor": 0
      },
      "text/plain": [
       "VBox(children=(Text(value='', description='String:', placeholder='Enter sample ID'), IntText(value=1, descript…"
      ]
     },
     "metadata": {},
     "output_type": "display_data"
    }
   ],
   "source": [
    "gui = widgets.VBox(children = (id_text, fridge_text,shelf_text,rack_text,layer_text,box_text,row_text,column_text, description_text, confirm_Button),\n",
    "                 layout = widgets.Layout(border = 'solid 2px gray', width = '400px')\n",
    "                )\n",
    "\n",
    "gui"
   ]
  },
  {
   "cell_type": "code",
   "execution_count": 96,
   "id": "b3691b9d",
   "metadata": {},
   "outputs": [
    {
     "name": "stdout",
     "output_type": "stream",
     "text": [
      " * sqlite:///fridgeDatabase.db\n",
      "Done.\n"
     ]
    },
    {
     "data": {
      "text/html": [
       "<table>\n",
       "    <tr>\n",
       "        <th>index</th>\n",
       "        <th>Fridge</th>\n",
       "        <th>Shelves</th>\n",
       "        <th>Racks</th>\n",
       "        <th>Layers</th>\n",
       "        <th>Boxes</th>\n",
       "        <th>Rows</th>\n",
       "        <th>Columns</th>\n",
       "    </tr>\n",
       "    <tr>\n",
       "        <td>0</td>\n",
       "        <td>1</td>\n",
       "        <td>4</td>\n",
       "        <td>4</td>\n",
       "        <td>5</td>\n",
       "        <td>4</td>\n",
       "        <td>9</td>\n",
       "        <td>9</td>\n",
       "    </tr>\n",
       "</table>"
      ],
      "text/plain": [
       "[(0, '1', 4, 4, 5, 4, 9, 9)]"
      ]
     },
     "execution_count": 96,
     "metadata": {},
     "output_type": "execute_result"
    }
   ],
   "source": [
    "%%sql\n",
    "SELECT *\n",
    "FROM Fridges"
   ]
  }
 ],
 "metadata": {
  "kernelspec": {
   "display_name": "Python 3 (ipykernel)",
   "language": "python",
   "name": "python3"
  },
  "language_info": {
   "codemirror_mode": {
    "name": "ipython",
    "version": 3
   },
   "file_extension": ".py",
   "mimetype": "text/x-python",
   "name": "python",
   "nbconvert_exporter": "python",
   "pygments_lexer": "ipython3",
   "version": "3.9.7"
  }
 },
 "nbformat": 4,
 "nbformat_minor": 5
}
